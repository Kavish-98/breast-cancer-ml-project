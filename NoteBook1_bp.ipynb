{
  "nbformat": 4,
  "nbformat_minor": 0,
  "metadata": {
    "colab": {
      "provenance": []
    },
    "kernelspec": {
      "name": "python3",
      "display_name": "Python 3"
    },
    "language_info": {
      "name": "python"
    }
  },
  "cells": [
    {
      "cell_type": "code",
      "execution_count": 16,
      "metadata": {
        "id": "ncgeiFaQ875J"
      },
      "outputs": [],
      "source": [
        "# 1.\n",
        "# Import necessary libraries\n",
        "# These libraries are essential for data manipulation, visualization, and preprocessing\n",
        "import pandas as pd\n",
        "import numpy as np\n",
        "import matplotlib.pyplot as plt\n",
        "from sklearn.preprocessing import StandardScaler, LabelEncoder\n",
        "from sklearn.model_selection import train_test_split\n",
        "from sklearn.impute import SimpleImputer\n",
        "import seaborn as sns\n",
        "import plotly.express as px"
      ]
    },
    {
      "cell_type": "code",
      "source": [
        "# 2.\n",
        "# Set display options\n",
        "pd.set_option('display.max_columns', None)\n",
        "pd.set_option('display.width', 1000)"
      ],
      "metadata": {
        "id": "dsmz8dEt9Jaw"
      },
      "execution_count": 17,
      "outputs": []
    },
    {
      "cell_type": "code",
      "source": [
        "# 3.\n",
        "# Load the dataset\n",
        "# Replace 'breast_cancer_data.csv' with your actual filename\n",
        "df = pd.read_csv('/content/Referral-Deferral-5DATA002W.2 Coursework Dataset(02062025).csv')"
      ],
      "metadata": {
        "id": "T7HBBBm8HYO3"
      },
      "execution_count": 18,
      "outputs": []
    },
    {
      "cell_type": "code",
      "source": [
        "# 4.\n",
        "# Display the first few rows of the dataset\n",
        "print(\"First 5 rows of the dataset:\")\n",
        "print(df.head())"
      ],
      "metadata": {
        "colab": {
          "base_uri": "https://localhost:8080/"
        },
        "id": "WZoAob5uHfQ_",
        "outputId": "9e87865e-6a7a-459b-9ae5-a4695afdef2c"
      },
      "execution_count": 19,
      "outputs": [
        {
          "output_type": "stream",
          "name": "stdout",
          "text": [
            "First 5 rows of the dataset:\n",
            "  Patient_ID  Month_of_Birth   Age     Sex   Occupation T_Stage N_Stage 6th_Stage             Differentiated  Grade   A_Stage  Tumor_Size Estrogen_Status Progesterone_Status  Regional_Node_Examined  Reginol_Node_Positive  Survival_Months Mortality_Status\n",
            "0      A0012              12  68.0  Female     Teaching      T1      N1       IIA      Poorly differentiated      3  Regional         4.0        Positive            Positive                    24.0                    1.0               60            Alive\n",
            "1      A0013              12  50.0  Female      Medical      T2      N2      IIIA  Moderately differentiated      2  Regional        35.0        Positive            Positive                    14.0                    5.0               62            Alive\n",
            "2      A0014              11  58.0  Female  Engineering      T3      N3      IIIC  Moderately differentiated      2  Regional        63.0        Positive            Positive                    14.0                    7.0               75            Alive\n",
            "3      A0015               3  58.0  Female   Technology      T1      N1       IIA      Poorly differentiated      3  Regional        18.0        Positive            Positive                     2.0                    1.0               84            Alive\n",
            "4      A0016               1  47.0  Female   Multimedia      T2      N1       IIB      Poorly differentiated      3  Regional        41.0        Positive            Positive                     3.0                    1.0               50            Alive\n"
          ]
        }
      ]
    },
    {
      "cell_type": "code",
      "source": [
        "# 5.\n",
        "# Check the dimensions of the dataset\n",
        "print(\"\\nDataset dimensions (rows, columns):\")\n",
        "print(df.shape)"
      ],
      "metadata": {
        "colab": {
          "base_uri": "https://localhost:8080/"
        },
        "id": "O0GHTC56Hl-V",
        "outputId": "ac00fe63-d611-4e49-ac1b-f52443c503e5"
      },
      "execution_count": 20,
      "outputs": [
        {
          "output_type": "stream",
          "name": "stdout",
          "text": [
            "\n",
            "Dataset dimensions (rows, columns):\n",
            "(4024, 18)\n"
          ]
        }
      ]
    },
    {
      "cell_type": "code",
      "source": [
        "# 6.\n",
        "# List of column names\n",
        "print(\"\\nColumn names:\")\n",
        "print(df.columns.tolist())"
      ],
      "metadata": {
        "colab": {
          "base_uri": "https://localhost:8080/"
        },
        "id": "oCTgDzCuHqnW",
        "outputId": "ba5c9e9f-4d4b-46bd-85d7-ae227ea529bc"
      },
      "execution_count": 21,
      "outputs": [
        {
          "output_type": "stream",
          "name": "stdout",
          "text": [
            "\n",
            "Column names:\n",
            "['Patient_ID', 'Month_of_Birth', 'Age', 'Sex', 'Occupation', 'T_Stage', 'N_Stage', '6th_Stage', 'Differentiated', 'Grade', 'A_Stage', 'Tumor_Size', 'Estrogen_Status', 'Progesterone_Status', 'Regional_Node_Examined', 'Reginol_Node_Positive', 'Survival_Months', 'Mortality_Status']\n"
          ]
        }
      ]
    },
    {
      "cell_type": "code",
      "source": [
        "# 7.\n",
        "# Basic statistical summary of numerical columns\n",
        "print(\"\\nStatistical summary of variables:\")\n",
        "df.describe(include='all')"
      ],
      "metadata": {
        "colab": {
          "base_uri": "https://localhost:8080/",
          "height": 467
        },
        "id": "3VTgNUaM-xe1",
        "outputId": "d1a6c947-7e6e-4176-ee97-079926b590f6"
      },
      "execution_count": 22,
      "outputs": [
        {
          "output_type": "stream",
          "name": "stdout",
          "text": [
            "\n",
            "Statistical summary of variables:\n"
          ]
        },
        {
          "output_type": "execute_result",
          "data": {
            "text/plain": [
              "       Patient_ID  Month_of_Birth          Age     Sex    Occupation T_Stage N_Stage 6th_Stage             Differentiated        Grade   A_Stage   Tumor_Size Estrogen_Status Progesterone_Status  Regional_Node_Examined  Reginol_Node_Positive  Survival_Months Mortality_Status\n",
              "count        4024     4024.000000  4015.000000    4024            86    4024    4024      4024                       4024  4024.000000      4016  4021.000000            4024                4024             4008.000000           3.970000e+03      4024.000000             4024\n",
              "unique       4024             NaN          NaN       2            40       4       3         5                          4          NaN         2          NaN               2                   2                     NaN                    NaN              NaN                7\n",
              "top         A4035             NaN          NaN  Female  House Person      T2      N1       IIA  Moderately differentiated          NaN  Regional          NaN        Positive            Positive                     NaN                    NaN              NaN            Alive\n",
              "freq            1             NaN          NaN    2561             4    1786    2732      1305                       2351          NaN      3924          NaN            3755                3326                     NaN                    NaN              NaN             3399\n",
              "mean          NaN        6.481362    53.995019     NaN           NaN     NaN     NaN       NaN                        NaN     2.150596       NaN    30.456603             NaN                 NaN               14.361277           5.042920e+03        71.472167              NaN\n",
              "std           NaN        3.475442     8.988199     NaN           NaN     NaN     NaN       NaN                        NaN     0.638234       NaN    21.107340             NaN                 NaN                8.152846           3.174827e+05        25.361855              NaN\n",
              "min           NaN        1.000000    30.000000     NaN           NaN     NaN     NaN       NaN                        NaN     1.000000       NaN     1.000000             NaN                 NaN              -18.000000           1.000000e+00         1.000000              NaN\n",
              "25%           NaN        3.000000    47.000000     NaN           NaN     NaN     NaN       NaN                        NaN     2.000000       NaN    16.000000             NaN                 NaN                9.000000           1.000000e+00        56.000000              NaN\n",
              "50%           NaN        6.000000    54.000000     NaN           NaN     NaN     NaN       NaN                        NaN     2.000000       NaN    25.000000             NaN                 NaN               14.000000           2.000000e+00        73.000000              NaN\n",
              "75%           NaN       10.000000    61.000000     NaN           NaN     NaN     NaN       NaN                        NaN     3.000000       NaN    38.000000             NaN                 NaN               19.000000           5.000000e+00        90.000000              NaN\n",
              "max           NaN       12.000000    89.000000     NaN           NaN     NaN     NaN       NaN                        NaN     4.000000       NaN   140.000000             NaN                 NaN               61.000000           2.000393e+07       760.000000              NaN"
            ],
            "text/html": [
              "\n",
              "  <div id=\"df-fba7f509-d4e8-4677-b125-4d0fa81ab7e0\" class=\"colab-df-container\">\n",
              "    <div>\n",
              "<style scoped>\n",
              "    .dataframe tbody tr th:only-of-type {\n",
              "        vertical-align: middle;\n",
              "    }\n",
              "\n",
              "    .dataframe tbody tr th {\n",
              "        vertical-align: top;\n",
              "    }\n",
              "\n",
              "    .dataframe thead th {\n",
              "        text-align: right;\n",
              "    }\n",
              "</style>\n",
              "<table border=\"1\" class=\"dataframe\">\n",
              "  <thead>\n",
              "    <tr style=\"text-align: right;\">\n",
              "      <th></th>\n",
              "      <th>Patient_ID</th>\n",
              "      <th>Month_of_Birth</th>\n",
              "      <th>Age</th>\n",
              "      <th>Sex</th>\n",
              "      <th>Occupation</th>\n",
              "      <th>T_Stage</th>\n",
              "      <th>N_Stage</th>\n",
              "      <th>6th_Stage</th>\n",
              "      <th>Differentiated</th>\n",
              "      <th>Grade</th>\n",
              "      <th>A_Stage</th>\n",
              "      <th>Tumor_Size</th>\n",
              "      <th>Estrogen_Status</th>\n",
              "      <th>Progesterone_Status</th>\n",
              "      <th>Regional_Node_Examined</th>\n",
              "      <th>Reginol_Node_Positive</th>\n",
              "      <th>Survival_Months</th>\n",
              "      <th>Mortality_Status</th>\n",
              "    </tr>\n",
              "  </thead>\n",
              "  <tbody>\n",
              "    <tr>\n",
              "      <th>count</th>\n",
              "      <td>4024</td>\n",
              "      <td>4024.000000</td>\n",
              "      <td>4015.000000</td>\n",
              "      <td>4024</td>\n",
              "      <td>86</td>\n",
              "      <td>4024</td>\n",
              "      <td>4024</td>\n",
              "      <td>4024</td>\n",
              "      <td>4024</td>\n",
              "      <td>4024.000000</td>\n",
              "      <td>4016</td>\n",
              "      <td>4021.000000</td>\n",
              "      <td>4024</td>\n",
              "      <td>4024</td>\n",
              "      <td>4008.000000</td>\n",
              "      <td>3.970000e+03</td>\n",
              "      <td>4024.000000</td>\n",
              "      <td>4024</td>\n",
              "    </tr>\n",
              "    <tr>\n",
              "      <th>unique</th>\n",
              "      <td>4024</td>\n",
              "      <td>NaN</td>\n",
              "      <td>NaN</td>\n",
              "      <td>2</td>\n",
              "      <td>40</td>\n",
              "      <td>4</td>\n",
              "      <td>3</td>\n",
              "      <td>5</td>\n",
              "      <td>4</td>\n",
              "      <td>NaN</td>\n",
              "      <td>2</td>\n",
              "      <td>NaN</td>\n",
              "      <td>2</td>\n",
              "      <td>2</td>\n",
              "      <td>NaN</td>\n",
              "      <td>NaN</td>\n",
              "      <td>NaN</td>\n",
              "      <td>7</td>\n",
              "    </tr>\n",
              "    <tr>\n",
              "      <th>top</th>\n",
              "      <td>A4035</td>\n",
              "      <td>NaN</td>\n",
              "      <td>NaN</td>\n",
              "      <td>Female</td>\n",
              "      <td>House Person</td>\n",
              "      <td>T2</td>\n",
              "      <td>N1</td>\n",
              "      <td>IIA</td>\n",
              "      <td>Moderately differentiated</td>\n",
              "      <td>NaN</td>\n",
              "      <td>Regional</td>\n",
              "      <td>NaN</td>\n",
              "      <td>Positive</td>\n",
              "      <td>Positive</td>\n",
              "      <td>NaN</td>\n",
              "      <td>NaN</td>\n",
              "      <td>NaN</td>\n",
              "      <td>Alive</td>\n",
              "    </tr>\n",
              "    <tr>\n",
              "      <th>freq</th>\n",
              "      <td>1</td>\n",
              "      <td>NaN</td>\n",
              "      <td>NaN</td>\n",
              "      <td>2561</td>\n",
              "      <td>4</td>\n",
              "      <td>1786</td>\n",
              "      <td>2732</td>\n",
              "      <td>1305</td>\n",
              "      <td>2351</td>\n",
              "      <td>NaN</td>\n",
              "      <td>3924</td>\n",
              "      <td>NaN</td>\n",
              "      <td>3755</td>\n",
              "      <td>3326</td>\n",
              "      <td>NaN</td>\n",
              "      <td>NaN</td>\n",
              "      <td>NaN</td>\n",
              "      <td>3399</td>\n",
              "    </tr>\n",
              "    <tr>\n",
              "      <th>mean</th>\n",
              "      <td>NaN</td>\n",
              "      <td>6.481362</td>\n",
              "      <td>53.995019</td>\n",
              "      <td>NaN</td>\n",
              "      <td>NaN</td>\n",
              "      <td>NaN</td>\n",
              "      <td>NaN</td>\n",
              "      <td>NaN</td>\n",
              "      <td>NaN</td>\n",
              "      <td>2.150596</td>\n",
              "      <td>NaN</td>\n",
              "      <td>30.456603</td>\n",
              "      <td>NaN</td>\n",
              "      <td>NaN</td>\n",
              "      <td>14.361277</td>\n",
              "      <td>5.042920e+03</td>\n",
              "      <td>71.472167</td>\n",
              "      <td>NaN</td>\n",
              "    </tr>\n",
              "    <tr>\n",
              "      <th>std</th>\n",
              "      <td>NaN</td>\n",
              "      <td>3.475442</td>\n",
              "      <td>8.988199</td>\n",
              "      <td>NaN</td>\n",
              "      <td>NaN</td>\n",
              "      <td>NaN</td>\n",
              "      <td>NaN</td>\n",
              "      <td>NaN</td>\n",
              "      <td>NaN</td>\n",
              "      <td>0.638234</td>\n",
              "      <td>NaN</td>\n",
              "      <td>21.107340</td>\n",
              "      <td>NaN</td>\n",
              "      <td>NaN</td>\n",
              "      <td>8.152846</td>\n",
              "      <td>3.174827e+05</td>\n",
              "      <td>25.361855</td>\n",
              "      <td>NaN</td>\n",
              "    </tr>\n",
              "    <tr>\n",
              "      <th>min</th>\n",
              "      <td>NaN</td>\n",
              "      <td>1.000000</td>\n",
              "      <td>30.000000</td>\n",
              "      <td>NaN</td>\n",
              "      <td>NaN</td>\n",
              "      <td>NaN</td>\n",
              "      <td>NaN</td>\n",
              "      <td>NaN</td>\n",
              "      <td>NaN</td>\n",
              "      <td>1.000000</td>\n",
              "      <td>NaN</td>\n",
              "      <td>1.000000</td>\n",
              "      <td>NaN</td>\n",
              "      <td>NaN</td>\n",
              "      <td>-18.000000</td>\n",
              "      <td>1.000000e+00</td>\n",
              "      <td>1.000000</td>\n",
              "      <td>NaN</td>\n",
              "    </tr>\n",
              "    <tr>\n",
              "      <th>25%</th>\n",
              "      <td>NaN</td>\n",
              "      <td>3.000000</td>\n",
              "      <td>47.000000</td>\n",
              "      <td>NaN</td>\n",
              "      <td>NaN</td>\n",
              "      <td>NaN</td>\n",
              "      <td>NaN</td>\n",
              "      <td>NaN</td>\n",
              "      <td>NaN</td>\n",
              "      <td>2.000000</td>\n",
              "      <td>NaN</td>\n",
              "      <td>16.000000</td>\n",
              "      <td>NaN</td>\n",
              "      <td>NaN</td>\n",
              "      <td>9.000000</td>\n",
              "      <td>1.000000e+00</td>\n",
              "      <td>56.000000</td>\n",
              "      <td>NaN</td>\n",
              "    </tr>\n",
              "    <tr>\n",
              "      <th>50%</th>\n",
              "      <td>NaN</td>\n",
              "      <td>6.000000</td>\n",
              "      <td>54.000000</td>\n",
              "      <td>NaN</td>\n",
              "      <td>NaN</td>\n",
              "      <td>NaN</td>\n",
              "      <td>NaN</td>\n",
              "      <td>NaN</td>\n",
              "      <td>NaN</td>\n",
              "      <td>2.000000</td>\n",
              "      <td>NaN</td>\n",
              "      <td>25.000000</td>\n",
              "      <td>NaN</td>\n",
              "      <td>NaN</td>\n",
              "      <td>14.000000</td>\n",
              "      <td>2.000000e+00</td>\n",
              "      <td>73.000000</td>\n",
              "      <td>NaN</td>\n",
              "    </tr>\n",
              "    <tr>\n",
              "      <th>75%</th>\n",
              "      <td>NaN</td>\n",
              "      <td>10.000000</td>\n",
              "      <td>61.000000</td>\n",
              "      <td>NaN</td>\n",
              "      <td>NaN</td>\n",
              "      <td>NaN</td>\n",
              "      <td>NaN</td>\n",
              "      <td>NaN</td>\n",
              "      <td>NaN</td>\n",
              "      <td>3.000000</td>\n",
              "      <td>NaN</td>\n",
              "      <td>38.000000</td>\n",
              "      <td>NaN</td>\n",
              "      <td>NaN</td>\n",
              "      <td>19.000000</td>\n",
              "      <td>5.000000e+00</td>\n",
              "      <td>90.000000</td>\n",
              "      <td>NaN</td>\n",
              "    </tr>\n",
              "    <tr>\n",
              "      <th>max</th>\n",
              "      <td>NaN</td>\n",
              "      <td>12.000000</td>\n",
              "      <td>89.000000</td>\n",
              "      <td>NaN</td>\n",
              "      <td>NaN</td>\n",
              "      <td>NaN</td>\n",
              "      <td>NaN</td>\n",
              "      <td>NaN</td>\n",
              "      <td>NaN</td>\n",
              "      <td>4.000000</td>\n",
              "      <td>NaN</td>\n",
              "      <td>140.000000</td>\n",
              "      <td>NaN</td>\n",
              "      <td>NaN</td>\n",
              "      <td>61.000000</td>\n",
              "      <td>2.000393e+07</td>\n",
              "      <td>760.000000</td>\n",
              "      <td>NaN</td>\n",
              "    </tr>\n",
              "  </tbody>\n",
              "</table>\n",
              "</div>\n",
              "    <div class=\"colab-df-buttons\">\n",
              "\n",
              "  <div class=\"colab-df-container\">\n",
              "    <button class=\"colab-df-convert\" onclick=\"convertToInteractive('df-fba7f509-d4e8-4677-b125-4d0fa81ab7e0')\"\n",
              "            title=\"Convert this dataframe to an interactive table.\"\n",
              "            style=\"display:none;\">\n",
              "\n",
              "  <svg xmlns=\"http://www.w3.org/2000/svg\" height=\"24px\" viewBox=\"0 -960 960 960\">\n",
              "    <path d=\"M120-120v-720h720v720H120Zm60-500h600v-160H180v160Zm220 220h160v-160H400v160Zm0 220h160v-160H400v160ZM180-400h160v-160H180v160Zm440 0h160v-160H620v160ZM180-180h160v-160H180v160Zm440 0h160v-160H620v160Z\"/>\n",
              "  </svg>\n",
              "    </button>\n",
              "\n",
              "  <style>\n",
              "    .colab-df-container {\n",
              "      display:flex;\n",
              "      gap: 12px;\n",
              "    }\n",
              "\n",
              "    .colab-df-convert {\n",
              "      background-color: #E8F0FE;\n",
              "      border: none;\n",
              "      border-radius: 50%;\n",
              "      cursor: pointer;\n",
              "      display: none;\n",
              "      fill: #1967D2;\n",
              "      height: 32px;\n",
              "      padding: 0 0 0 0;\n",
              "      width: 32px;\n",
              "    }\n",
              "\n",
              "    .colab-df-convert:hover {\n",
              "      background-color: #E2EBFA;\n",
              "      box-shadow: 0px 1px 2px rgba(60, 64, 67, 0.3), 0px 1px 3px 1px rgba(60, 64, 67, 0.15);\n",
              "      fill: #174EA6;\n",
              "    }\n",
              "\n",
              "    .colab-df-buttons div {\n",
              "      margin-bottom: 4px;\n",
              "    }\n",
              "\n",
              "    [theme=dark] .colab-df-convert {\n",
              "      background-color: #3B4455;\n",
              "      fill: #D2E3FC;\n",
              "    }\n",
              "\n",
              "    [theme=dark] .colab-df-convert:hover {\n",
              "      background-color: #434B5C;\n",
              "      box-shadow: 0px 1px 3px 1px rgba(0, 0, 0, 0.15);\n",
              "      filter: drop-shadow(0px 1px 2px rgba(0, 0, 0, 0.3));\n",
              "      fill: #FFFFFF;\n",
              "    }\n",
              "  </style>\n",
              "\n",
              "    <script>\n",
              "      const buttonEl =\n",
              "        document.querySelector('#df-fba7f509-d4e8-4677-b125-4d0fa81ab7e0 button.colab-df-convert');\n",
              "      buttonEl.style.display =\n",
              "        google.colab.kernel.accessAllowed ? 'block' : 'none';\n",
              "\n",
              "      async function convertToInteractive(key) {\n",
              "        const element = document.querySelector('#df-fba7f509-d4e8-4677-b125-4d0fa81ab7e0');\n",
              "        const dataTable =\n",
              "          await google.colab.kernel.invokeFunction('convertToInteractive',\n",
              "                                                    [key], {});\n",
              "        if (!dataTable) return;\n",
              "\n",
              "        const docLinkHtml = 'Like what you see? Visit the ' +\n",
              "          '<a target=\"_blank\" href=https://colab.research.google.com/notebooks/data_table.ipynb>data table notebook</a>'\n",
              "          + ' to learn more about interactive tables.';\n",
              "        element.innerHTML = '';\n",
              "        dataTable['output_type'] = 'display_data';\n",
              "        await google.colab.output.renderOutput(dataTable, element);\n",
              "        const docLink = document.createElement('div');\n",
              "        docLink.innerHTML = docLinkHtml;\n",
              "        element.appendChild(docLink);\n",
              "      }\n",
              "    </script>\n",
              "  </div>\n",
              "\n",
              "\n",
              "    <div id=\"df-29a62ecc-83f2-4d3d-b39b-dc9d4c973b76\">\n",
              "      <button class=\"colab-df-quickchart\" onclick=\"quickchart('df-29a62ecc-83f2-4d3d-b39b-dc9d4c973b76')\"\n",
              "                title=\"Suggest charts\"\n",
              "                style=\"display:none;\">\n",
              "\n",
              "<svg xmlns=\"http://www.w3.org/2000/svg\" height=\"24px\"viewBox=\"0 0 24 24\"\n",
              "     width=\"24px\">\n",
              "    <g>\n",
              "        <path d=\"M19 3H5c-1.1 0-2 .9-2 2v14c0 1.1.9 2 2 2h14c1.1 0 2-.9 2-2V5c0-1.1-.9-2-2-2zM9 17H7v-7h2v7zm4 0h-2V7h2v10zm4 0h-2v-4h2v4z\"/>\n",
              "    </g>\n",
              "</svg>\n",
              "      </button>\n",
              "\n",
              "<style>\n",
              "  .colab-df-quickchart {\n",
              "      --bg-color: #E8F0FE;\n",
              "      --fill-color: #1967D2;\n",
              "      --hover-bg-color: #E2EBFA;\n",
              "      --hover-fill-color: #174EA6;\n",
              "      --disabled-fill-color: #AAA;\n",
              "      --disabled-bg-color: #DDD;\n",
              "  }\n",
              "\n",
              "  [theme=dark] .colab-df-quickchart {\n",
              "      --bg-color: #3B4455;\n",
              "      --fill-color: #D2E3FC;\n",
              "      --hover-bg-color: #434B5C;\n",
              "      --hover-fill-color: #FFFFFF;\n",
              "      --disabled-bg-color: #3B4455;\n",
              "      --disabled-fill-color: #666;\n",
              "  }\n",
              "\n",
              "  .colab-df-quickchart {\n",
              "    background-color: var(--bg-color);\n",
              "    border: none;\n",
              "    border-radius: 50%;\n",
              "    cursor: pointer;\n",
              "    display: none;\n",
              "    fill: var(--fill-color);\n",
              "    height: 32px;\n",
              "    padding: 0;\n",
              "    width: 32px;\n",
              "  }\n",
              "\n",
              "  .colab-df-quickchart:hover {\n",
              "    background-color: var(--hover-bg-color);\n",
              "    box-shadow: 0 1px 2px rgba(60, 64, 67, 0.3), 0 1px 3px 1px rgba(60, 64, 67, 0.15);\n",
              "    fill: var(--button-hover-fill-color);\n",
              "  }\n",
              "\n",
              "  .colab-df-quickchart-complete:disabled,\n",
              "  .colab-df-quickchart-complete:disabled:hover {\n",
              "    background-color: var(--disabled-bg-color);\n",
              "    fill: var(--disabled-fill-color);\n",
              "    box-shadow: none;\n",
              "  }\n",
              "\n",
              "  .colab-df-spinner {\n",
              "    border: 2px solid var(--fill-color);\n",
              "    border-color: transparent;\n",
              "    border-bottom-color: var(--fill-color);\n",
              "    animation:\n",
              "      spin 1s steps(1) infinite;\n",
              "  }\n",
              "\n",
              "  @keyframes spin {\n",
              "    0% {\n",
              "      border-color: transparent;\n",
              "      border-bottom-color: var(--fill-color);\n",
              "      border-left-color: var(--fill-color);\n",
              "    }\n",
              "    20% {\n",
              "      border-color: transparent;\n",
              "      border-left-color: var(--fill-color);\n",
              "      border-top-color: var(--fill-color);\n",
              "    }\n",
              "    30% {\n",
              "      border-color: transparent;\n",
              "      border-left-color: var(--fill-color);\n",
              "      border-top-color: var(--fill-color);\n",
              "      border-right-color: var(--fill-color);\n",
              "    }\n",
              "    40% {\n",
              "      border-color: transparent;\n",
              "      border-right-color: var(--fill-color);\n",
              "      border-top-color: var(--fill-color);\n",
              "    }\n",
              "    60% {\n",
              "      border-color: transparent;\n",
              "      border-right-color: var(--fill-color);\n",
              "    }\n",
              "    80% {\n",
              "      border-color: transparent;\n",
              "      border-right-color: var(--fill-color);\n",
              "      border-bottom-color: var(--fill-color);\n",
              "    }\n",
              "    90% {\n",
              "      border-color: transparent;\n",
              "      border-bottom-color: var(--fill-color);\n",
              "    }\n",
              "  }\n",
              "</style>\n",
              "\n",
              "      <script>\n",
              "        async function quickchart(key) {\n",
              "          const quickchartButtonEl =\n",
              "            document.querySelector('#' + key + ' button');\n",
              "          quickchartButtonEl.disabled = true;  // To prevent multiple clicks.\n",
              "          quickchartButtonEl.classList.add('colab-df-spinner');\n",
              "          try {\n",
              "            const charts = await google.colab.kernel.invokeFunction(\n",
              "                'suggestCharts', [key], {});\n",
              "          } catch (error) {\n",
              "            console.error('Error during call to suggestCharts:', error);\n",
              "          }\n",
              "          quickchartButtonEl.classList.remove('colab-df-spinner');\n",
              "          quickchartButtonEl.classList.add('colab-df-quickchart-complete');\n",
              "        }\n",
              "        (() => {\n",
              "          let quickchartButtonEl =\n",
              "            document.querySelector('#df-29a62ecc-83f2-4d3d-b39b-dc9d4c973b76 button');\n",
              "          quickchartButtonEl.style.display =\n",
              "            google.colab.kernel.accessAllowed ? 'block' : 'none';\n",
              "        })();\n",
              "      </script>\n",
              "    </div>\n",
              "\n",
              "    </div>\n",
              "  </div>\n"
            ],
            "application/vnd.google.colaboratory.intrinsic+json": {
              "type": "dataframe",
              "summary": "{\n  \"name\": \"df\",\n  \"rows\": 11,\n  \"fields\": [\n    {\n      \"column\": \"Patient_ID\",\n      \"properties\": {\n        \"dtype\": \"category\",\n        \"num_unique_values\": 3,\n        \"samples\": [\n          \"4024\",\n          \"A4035\",\n          \"1\"\n        ],\n        \"semantic_type\": \"\",\n        \"description\": \"\"\n      }\n    },\n    {\n      \"column\": \"Month_of_Birth\",\n      \"properties\": {\n        \"dtype\": \"number\",\n        \"std\": 1420.5843614155217,\n        \"min\": 1.0,\n        \"max\": 4024.0,\n        \"num_unique_values\": 8,\n        \"samples\": [\n          6.481361829025845,\n          6.0,\n          4024.0\n        ],\n        \"semantic_type\": \"\",\n        \"description\": \"\"\n      }\n    },\n    {\n      \"column\": \"Age\",\n      \"properties\": {\n        \"dtype\": \"number\",\n        \"std\": 1402.3346051419999,\n        \"min\": 8.988198822907695,\n        \"max\": 4015.0,\n        \"num_unique_values\": 8,\n        \"samples\": [\n          53.995018679950185,\n          54.0,\n          4015.0\n        ],\n        \"semantic_type\": \"\",\n        \"description\": \"\"\n      }\n    },\n    {\n      \"column\": \"Sex\",\n      \"properties\": {\n        \"dtype\": \"category\",\n        \"num_unique_values\": 4,\n        \"samples\": [\n          2,\n          \"2561\",\n          \"4024\"\n        ],\n        \"semantic_type\": \"\",\n        \"description\": \"\"\n      }\n    },\n    {\n      \"column\": \"Occupation\",\n      \"properties\": {\n        \"dtype\": \"category\",\n        \"num_unique_values\": 4,\n        \"samples\": [\n          40,\n          \"4\",\n          \"86\"\n        ],\n        \"semantic_type\": \"\",\n        \"description\": \"\"\n      }\n    },\n    {\n      \"column\": \"T_Stage\",\n      \"properties\": {\n        \"dtype\": \"category\",\n        \"num_unique_values\": 4,\n        \"samples\": [\n          4,\n          \"1786\",\n          \"4024\"\n        ],\n        \"semantic_type\": \"\",\n        \"description\": \"\"\n      }\n    },\n    {\n      \"column\": \"N_Stage\",\n      \"properties\": {\n        \"dtype\": \"category\",\n        \"num_unique_values\": 4,\n        \"samples\": [\n          3,\n          \"2732\",\n          \"4024\"\n        ],\n        \"semantic_type\": \"\",\n        \"description\": \"\"\n      }\n    },\n    {\n      \"column\": \"6th_Stage\",\n      \"properties\": {\n        \"dtype\": \"category\",\n        \"num_unique_values\": 4,\n        \"samples\": [\n          5,\n          \"1305\",\n          \"4024\"\n        ],\n        \"semantic_type\": \"\",\n        \"description\": \"\"\n      }\n    },\n    {\n      \"column\": \"Differentiated\",\n      \"properties\": {\n        \"dtype\": \"category\",\n        \"num_unique_values\": 4,\n        \"samples\": [\n          4,\n          \"2351\",\n          \"4024\"\n        ],\n        \"semantic_type\": \"\",\n        \"description\": \"\"\n      }\n    },\n    {\n      \"column\": \"Grade\",\n      \"properties\": {\n        \"dtype\": \"number\",\n        \"std\": 1421.952286244199,\n        \"min\": 0.6382338311415823,\n        \"max\": 4024.0,\n        \"num_unique_values\": 7,\n        \"samples\": [\n          4024.0,\n          2.150596421471173,\n          3.0\n        ],\n        \"semantic_type\": \"\",\n        \"description\": \"\"\n      }\n    },\n    {\n      \"column\": \"A_Stage\",\n      \"properties\": {\n        \"dtype\": \"category\",\n        \"num_unique_values\": 4,\n        \"samples\": [\n          2,\n          \"3924\",\n          \"4016\"\n        ],\n        \"semantic_type\": \"\",\n        \"description\": \"\"\n      }\n    },\n    {\n      \"column\": \"Tumor_Size\",\n      \"properties\": {\n        \"dtype\": \"number\",\n        \"std\": 1408.5695364748424,\n        \"min\": 1.0,\n        \"max\": 4021.0,\n        \"num_unique_values\": 8,\n        \"samples\": [\n          30.456602835115643,\n          25.0,\n          4021.0\n        ],\n        \"semantic_type\": \"\",\n        \"description\": \"\"\n      }\n    },\n    {\n      \"column\": \"Estrogen_Status\",\n      \"properties\": {\n        \"dtype\": \"category\",\n        \"num_unique_values\": 4,\n        \"samples\": [\n          2,\n          \"3755\",\n          \"4024\"\n        ],\n        \"semantic_type\": \"\",\n        \"description\": \"\"\n      }\n    },\n    {\n      \"column\": \"Progesterone_Status\",\n      \"properties\": {\n        \"dtype\": \"category\",\n        \"num_unique_values\": 4,\n        \"samples\": [\n          2,\n          \"3326\",\n          \"4024\"\n        ],\n        \"semantic_type\": \"\",\n        \"description\": \"\"\n      }\n    },\n    {\n      \"column\": \"Regional_Node_Examined\",\n      \"properties\": {\n        \"dtype\": \"number\",\n        \"std\": 1411.778900774754,\n        \"min\": -18.0,\n        \"max\": 4008.0,\n        \"num_unique_values\": 8,\n        \"samples\": [\n          14.361277445109781,\n          14.0,\n          4008.0\n        ],\n        \"semantic_type\": \"\",\n        \"description\": \"\"\n      }\n    },\n    {\n      \"column\": \"Reginol_Node_Positive\",\n      \"properties\": {\n        \"dtype\": \"number\",\n        \"std\": 7056833.924392315,\n        \"min\": 1.0,\n        \"max\": 20003933.0,\n        \"num_unique_values\": 7,\n        \"samples\": [\n          3970.0,\n          5042.919647355164,\n          5.0\n        ],\n        \"semantic_type\": \"\",\n        \"description\": \"\"\n      }\n    },\n    {\n      \"column\": \"Survival_Months\",\n      \"properties\": {\n        \"dtype\": \"number\",\n        \"std\": 1390.795251925918,\n        \"min\": 1.0,\n        \"max\": 4024.0,\n        \"num_unique_values\": 8,\n        \"samples\": [\n          71.47216699801193,\n          73.0,\n          4024.0\n        ],\n        \"semantic_type\": \"\",\n        \"description\": \"\"\n      }\n    },\n    {\n      \"column\": \"Mortality_Status\",\n      \"properties\": {\n        \"dtype\": \"category\",\n        \"num_unique_values\": 4,\n        \"samples\": [\n          7,\n          \"3399\",\n          \"4024\"\n        ],\n        \"semantic_type\": \"\",\n        \"description\": \"\"\n      }\n    }\n  ]\n}"
            }
          },
          "metadata": {},
          "execution_count": 22
        }
      ]
    },
    {
      "cell_type": "code",
      "source": [
        "# 8.\n",
        "print(\"\\nData Types: \")\n",
        "df.dtypes"
      ],
      "metadata": {
        "colab": {
          "base_uri": "https://localhost:8080/",
          "height": 683
        },
        "id": "nP1iid-Qj4gA",
        "outputId": "a815e34f-28ea-45bf-b3d6-d1cdfd67427b"
      },
      "execution_count": 23,
      "outputs": [
        {
          "output_type": "stream",
          "name": "stdout",
          "text": [
            "\n",
            "Data Types: \n"
          ]
        },
        {
          "output_type": "execute_result",
          "data": {
            "text/plain": [
              "Patient_ID                 object\n",
              "Month_of_Birth              int64\n",
              "Age                       float64\n",
              "Sex                        object\n",
              "Occupation                 object\n",
              "T_Stage                    object\n",
              "N_Stage                    object\n",
              "6th_Stage                  object\n",
              "Differentiated             object\n",
              "Grade                       int64\n",
              "A_Stage                    object\n",
              "Tumor_Size                float64\n",
              "Estrogen_Status            object\n",
              "Progesterone_Status        object\n",
              "Regional_Node_Examined    float64\n",
              "Reginol_Node_Positive     float64\n",
              "Survival_Months             int64\n",
              "Mortality_Status           object\n",
              "dtype: object"
            ],
            "text/html": [
              "<div>\n",
              "<style scoped>\n",
              "    .dataframe tbody tr th:only-of-type {\n",
              "        vertical-align: middle;\n",
              "    }\n",
              "\n",
              "    .dataframe tbody tr th {\n",
              "        vertical-align: top;\n",
              "    }\n",
              "\n",
              "    .dataframe thead th {\n",
              "        text-align: right;\n",
              "    }\n",
              "</style>\n",
              "<table border=\"1\" class=\"dataframe\">\n",
              "  <thead>\n",
              "    <tr style=\"text-align: right;\">\n",
              "      <th></th>\n",
              "      <th>0</th>\n",
              "    </tr>\n",
              "  </thead>\n",
              "  <tbody>\n",
              "    <tr>\n",
              "      <th>Patient_ID</th>\n",
              "      <td>object</td>\n",
              "    </tr>\n",
              "    <tr>\n",
              "      <th>Month_of_Birth</th>\n",
              "      <td>int64</td>\n",
              "    </tr>\n",
              "    <tr>\n",
              "      <th>Age</th>\n",
              "      <td>float64</td>\n",
              "    </tr>\n",
              "    <tr>\n",
              "      <th>Sex</th>\n",
              "      <td>object</td>\n",
              "    </tr>\n",
              "    <tr>\n",
              "      <th>Occupation</th>\n",
              "      <td>object</td>\n",
              "    </tr>\n",
              "    <tr>\n",
              "      <th>T_Stage</th>\n",
              "      <td>object</td>\n",
              "    </tr>\n",
              "    <tr>\n",
              "      <th>N_Stage</th>\n",
              "      <td>object</td>\n",
              "    </tr>\n",
              "    <tr>\n",
              "      <th>6th_Stage</th>\n",
              "      <td>object</td>\n",
              "    </tr>\n",
              "    <tr>\n",
              "      <th>Differentiated</th>\n",
              "      <td>object</td>\n",
              "    </tr>\n",
              "    <tr>\n",
              "      <th>Grade</th>\n",
              "      <td>int64</td>\n",
              "    </tr>\n",
              "    <tr>\n",
              "      <th>A_Stage</th>\n",
              "      <td>object</td>\n",
              "    </tr>\n",
              "    <tr>\n",
              "      <th>Tumor_Size</th>\n",
              "      <td>float64</td>\n",
              "    </tr>\n",
              "    <tr>\n",
              "      <th>Estrogen_Status</th>\n",
              "      <td>object</td>\n",
              "    </tr>\n",
              "    <tr>\n",
              "      <th>Progesterone_Status</th>\n",
              "      <td>object</td>\n",
              "    </tr>\n",
              "    <tr>\n",
              "      <th>Regional_Node_Examined</th>\n",
              "      <td>float64</td>\n",
              "    </tr>\n",
              "    <tr>\n",
              "      <th>Reginol_Node_Positive</th>\n",
              "      <td>float64</td>\n",
              "    </tr>\n",
              "    <tr>\n",
              "      <th>Survival_Months</th>\n",
              "      <td>int64</td>\n",
              "    </tr>\n",
              "    <tr>\n",
              "      <th>Mortality_Status</th>\n",
              "      <td>object</td>\n",
              "    </tr>\n",
              "  </tbody>\n",
              "</table>\n",
              "</div><br><label><b>dtype:</b> object</label>"
            ]
          },
          "metadata": {},
          "execution_count": 23
        }
      ]
    },
    {
      "cell_type": "code",
      "source": [
        "# 9.\n",
        "# Bar Chart Showing the Distribution of the Categorical Target Variable: Mortality_Status\n",
        "sns.countplot(x='Mortality_Status', data=df)\n",
        "plt.title(\"Distribution of Mortality Status\")\n",
        "plt.show()\n"
      ],
      "metadata": {
        "colab": {
          "base_uri": "https://localhost:8080/",
          "height": 472
        },
        "id": "867YDOLKl4rG",
        "outputId": "3ac3407b-7d9c-4fe6-d8c8-c7b59e569a23"
      },
      "execution_count": 24,
      "outputs": [
        {
          "output_type": "display_data",
          "data": {
            "text/plain": [
              "<Figure size 640x480 with 1 Axes>"
            ],
            "image/png": "[encoded data removed]"
          },
          "metadata": {}
        }
      ]
    },
    {
      "cell_type": "code",
      "source": [
        "# 10.\n",
        "#Histogram Showing the Distribution of the Continuous Target Variable: Survival_Months\n",
        "sns.histplot(df['Survival_Months'], bins=20, kde=True)\n",
        "plt.title(\"Distribution of Survival Months\")\n",
        "plt.xlabel(\"Survival Months\")\n",
        "plt.ylabel(\"Frequency\")\n",
        "plt.show()"
      ],
      "metadata": {
        "colab": {
          "base_uri": "https://localhost:8080/",
          "height": 472
        },
        "id": "X497nsa5i9BQ",
        "outputId": "73325987-1dcd-41b0-e446-2fb0c3ff39ad"
      },
      "execution_count": 25,
      "outputs": [
        {
          "output_type": "display_data",
          "data": {
            "text/plain": [
              "<Figure size 640x480 with 1 Axes>"
            ],
            "image/png": "[encoded data removed]"
          },
          "metadata": {}
        }
      ]
    },
    {
      "cell_type": "code",
      "source": [
        "# 11.\n",
        "# Check original unique values\n",
        "print(\"Before cleaning:\")\n",
        "print(\"Sex values:\", df['Sex'].unique())\n",
        "print(\"T_Stage:\", df['T_Stage'].unique())\n",
        "print(\"N_Stage:\", df['N_Stage'].unique())\n",
        "print(\"6th_Stage:\", df['6th_Stage'].unique())\n",
        "print(\"Differentiated:\", df['Differentiated'].unique())\n",
        "print(\"Grade:\", df['Grade'].unique())\n",
        "print(\"A_Stage:\", df['A_Stage'].unique())\n",
        "print(\"Estrogen_Status:\", df['Estrogen_Status'].unique())\n",
        "print(\"Progesterone_Status:\", df['Progesterone_Status'].unique())\n",
        "print(\"Mortality_Status values:\", df['Mortality_Status'].unique())"
      ],
      "metadata": {
        "colab": {
          "base_uri": "https://localhost:8080/"
        },
        "id": "93P9ARC-kipL",
        "outputId": "70c8e11b-60b5-4d25-f31c-2b6604d12655"
      },
      "execution_count": 26,
      "outputs": [
        {
          "output_type": "stream",
          "name": "stdout",
          "text": [
            "Before cleaning:\n",
            "Sex values: ['Female' 'Male']\n",
            "T_Stage: ['T1' 'T2' 'T3' 'T4']\n",
            "N_Stage: ['N1' 'N2' 'N3']\n",
            "6th_Stage: ['IIA' 'IIIA' 'IIIC' 'IIB' 'IIIB']\n",
            "Differentiated: ['Poorly differentiated' 'Moderately differentiated' 'Well differentiated'\n",
            " 'Undifferentiated']\n",
            "Grade: [3 2 1 4]\n",
            "A_Stage: ['Regional' 'Distant' nan]\n",
            "Estrogen_Status: ['Positive' 'Negative']\n",
            "Progesterone_Status: ['Positive' 'Negative']\n",
            "Mortality_Status values: ['Alive' 'Dead' 'ALIVE' 'DEAD' 'ALive' 'alive' 'dead']\n"
          ]
        }
      ]
    },
    {
      "cell_type": "code",
      "source": [
        "print(\"Mortality_Status values:\", df['Mortality_Status'].unique())"
      ],
      "metadata": {
        "colab": {
          "base_uri": "https://localhost:8080/"
        },
        "id": "Wsu6xGCfTNck",
        "outputId": "8fbd6526-f2a5-48c5-b64c-b777051e38c0"
      },
      "execution_count": 27,
      "outputs": [
        {
          "output_type": "stream",
          "name": "stdout",
          "text": [
            "Mortality_Status values: ['Alive' 'Dead' 'ALIVE' 'DEAD' 'ALive' 'alive' 'dead']\n"
          ]
        }
      ]
    },
    {
      "cell_type": "code",
      "source": [
        "# 12.\n",
        "# First normalize the case of text to avoid mismatches\n",
        "df['Mortality_Status'] = df['Mortality_Status'].str.lower().str.strip()\n",
        "df['Mortality_Status'] = df['Mortality_Status'].replace({\n",
        "    'alive': 'Alive',\n",
        "    'dead': 'Dead'\n",
        "    })\n",
        "print((\"Mortality_Status values:\", df['Mortality_Status'].unique()))"
      ],
      "metadata": {
        "id": "uUxjBT2WqWEq",
        "colab": {
          "base_uri": "https://localhost:8080/"
        },
        "outputId": "34d64902-54c7-4867-d0f2-1d0007dbfca2"
      },
      "execution_count": 28,
      "outputs": [
        {
          "output_type": "stream",
          "name": "stdout",
          "text": [
            "('Mortality_Status values:', array(['Alive', 'Dead'], dtype=object))\n"
          ]
        }
      ]
    },
    {
      "cell_type": "code",
      "source": [
        "# 13.\n",
        "#  MANUAL MAPPING OF CATEGORICAL FEATURES\n",
        "\n",
        "# 1. Sex: Female = 0, Male = 1\n",
        "sex_mapping = {'Female': 0, 'Male': 1}\n",
        "df['Sex'] = df['Sex'].map(sex_mapping)\n",
        "\n",
        "# 2. T_Stage: T1 < T2 < T3 < T4\n",
        "t_stage_mapping = {'T1': 1, 'T2': 2, 'T3': 3, 'T4': 4}\n",
        "df['T_Stage'] = df['T_Stage'].map(t_stage_mapping)\n",
        "\n",
        "# 3. N_Stage: N1 < N2 < N3\n",
        "n_stage_mapping = {'N1': 1, 'N2': 2, 'N3': 3}\n",
        "df['N_Stage'] = df['N_Stage'].map(n_stage_mapping)\n",
        "\n",
        "# 4. 6th_Stage: Ordinal values based on clinical severity\n",
        "stage_6_mapping = {'IIA': 1, 'IIB': 2, 'IIIA': 3, 'IIIB': 4, 'IIIC': 5}\n",
        "df['6th_Stage'] = df['6th_Stage'].map(stage_6_mapping)\n",
        "\n",
        "# 5. Differentiated: Ordinal values based on cell abnormality\n",
        "differentiated_mapping = {\n",
        "    'Undifferentiated': 1,\n",
        "    'Poorly differentiated': 2,\n",
        "    'Moderately differentiated': 3,\n",
        "    'Well differentiated': 4\n",
        "}\n",
        "df['Differentiated'] = df['Differentiated'].map(differentiated_mapping)\n",
        "\n",
        "# 6. A_Stage: Regional = 0, Distant = 1\n",
        "a_stage_mapping = {'Regional': 0, 'Distant': 1}\n",
        "df['A_Stage'] = df['A_Stage'].map(a_stage_mapping)\n",
        "\n",
        "# 7. Estrogen_Status and Progesterone_Status: Negative = 0, Positive = 1\n",
        "hormone_mapping = {'Negative': 0, 'Positive': 1}\n",
        "df['Estrogen_Status'] = df['Estrogen_Status'].map(hormone_mapping)\n",
        "df['Progesterone_Status'] = df['Progesterone_Status'].map(hormone_mapping)\n",
        "\n",
        "# 8. Mortality_Status: Alive = 0, Dead = 1\n",
        "mortality_mapping = {'Alive': 0, 'Dead': 1}\n",
        "df['Mortality_Status'] = df['Mortality_Status'].map(mortality_mapping)\n",
        "\n"
      ],
      "metadata": {
        "id": "VR2OQQW7pfy0"
      },
      "execution_count": 29,
      "outputs": []
    },
    {
      "cell_type": "code",
      "source": [
        "# 14.\n",
        "# CHECK UNIQUE VALUES AFTER MAPPING\n",
        "print(\"Sex:\", df['Sex'].unique())\n",
        "print(\"T_Stage:\", df['T_Stage'].unique())\n",
        "print(\"N_Stage:\", df['N_Stage'].unique())\n",
        "print(\"6th_Stage:\", df['6th_Stage'].unique())\n",
        "print(\"Differentiated:\", df['Differentiated'].unique())\n",
        "print(\"A_Stage:\", df['A_Stage'].unique())\n",
        "print(\"Estrogen_Status:\", df['Estrogen_Status'].unique())\n",
        "print(\"Progesterone_Status:\", df['Progesterone_Status'].unique())\n",
        "print(\"Mortality_Status:\", df['Mortality_Status'].unique())"
      ],
      "metadata": {
        "colab": {
          "base_uri": "https://localhost:8080/"
        },
        "id": "9agLEBLypiy9",
        "outputId": "732aedf6-c945-4944-9546-e267081c4f43"
      },
      "execution_count": 30,
      "outputs": [
        {
          "output_type": "stream",
          "name": "stdout",
          "text": [
            "Sex: [0 1]\n",
            "T_Stage: [1 2 3 4]\n",
            "N_Stage: [1 2 3]\n",
            "6th_Stage: [1 3 5 2 4]\n",
            "Differentiated: [2 3 4 1]\n",
            "A_Stage: [ 0.  1. nan]\n",
            "Estrogen_Status: [1 0]\n",
            "Progesterone_Status: [1 0]\n",
            "Mortality_Status: [0 1]\n"
          ]
        }
      ]
    },
    {
      "cell_type": "code",
      "source": [
        "print(df.head )"
      ],
      "metadata": {
        "colab": {
          "base_uri": "https://localhost:8080/"
        },
        "id": "L6o-y-1ipFLi",
        "outputId": "bf8804cc-bcfa-4aab-ec6f-b90d8ac1dbfb"
      },
      "execution_count": 31,
      "outputs": [
        {
          "output_type": "stream",
          "name": "stdout",
          "text": [
            "<bound method NDFrame.head of      Patient_ID  Month_of_Birth   Age  Sex   Occupation  T_Stage  N_Stage  6th_Stage  Differentiated  Grade  A_Stage  Tumor_Size  Estrogen_Status  Progesterone_Status  Regional_Node_Examined  Reginol_Node_Positive  Survival_Months  Mortality_Status\n",
            "0         A0012              12  68.0    0     Teaching        1        1          1               2      3      0.0         4.0                1                    1                    24.0                    1.0               60                 0\n",
            "1         A0013              12  50.0    0      Medical        2        2          3               3      2      0.0        35.0                1                    1                    14.0                    5.0               62                 0\n",
            "2         A0014              11  58.0    0  Engineering        3        3          5               3      2      0.0        63.0                1                    1                    14.0                    7.0               75                 0\n",
            "3         A0015               3  58.0    0   Technology        1        1          1               2      3      0.0        18.0                1                    1                     2.0                    1.0               84                 0\n",
            "4         A0016               1  47.0    0   Multimedia        2        1          2               2      3      0.0        41.0                1                    1                     3.0                    1.0               50                 0\n",
            "...         ...             ...   ...  ...          ...      ...      ...        ...             ...    ...      ...         ...              ...                  ...                     ...                    ...              ...               ...\n",
            "4019      A4031               1  62.0    0          NaN        1        1          1               3      2      0.0         9.0                1                    1                     1.0                    1.0               49                 0\n",
            "4020      A4032               5  56.0    0          NaN        2        2          3               3      2      0.0        46.0                1                    1                    14.0                    8.0               69                 0\n",
            "4021      A4033               2  68.0    1          NaN        2        1          2               3      2      0.0        22.0                1                    0                    11.0                    3.0               69                 0\n",
            "4022      A4034              10  58.0    0          NaN        2        1          2               3      2      0.0        44.0                1                    1                    11.0                    1.0               72                 0\n",
            "4023      A4035               5  46.0    0          NaN        2        1          2               3      2      0.0        30.0                1                    1                     7.0                    2.0              100                 0\n",
            "\n",
            "[4024 rows x 18 columns]>\n"
          ]
        }
      ]
    },
    {
      "cell_type": "markdown",
      "source": [
        "Data Cleaning and Preprocessing"
      ],
      "metadata": {
        "id": "CKegMSn9-PBF"
      }
    },
    {
      "cell_type": "code",
      "source": [
        "# 1.\n",
        "print(\"\\nPerforming feature selection by removing irrelevant variables...\")\n",
        "\n",
        "# List of irrelevant features to remove\n",
        "# Corrected column name from 'Patient_ID' to 'PatientID'\n",
        "irrelevant_features = ['Patient_ID', 'Month_of_Birth', 'Occupation',]\n",
        "print(f\"Removing the following irrelevant features: {irrelevant_features}\")\n",
        "\n",
        "# Actually remove the features from the DataFrame\n",
        "df = df.drop(columns=irrelevant_features)\n"
      ],
      "metadata": {
        "colab": {
          "base_uri": "https://localhost:8080/"
        },
        "id": "c4ZaLpmIaCdf",
        "outputId": "a771a35b-c564-4a98-dc28-0fc16d9348a6"
      },
      "execution_count": 32,
      "outputs": [
        {
          "output_type": "stream",
          "name": "stdout",
          "text": [
            "\n",
            "Performing feature selection by removing irrelevant variables...\n",
            "Removing the following irrelevant features: ['Patient_ID', 'Month_of_Birth', 'Occupation']\n"
          ]
        }
      ]
    },
    {
      "cell_type": "code",
      "source": [
        "# 2.\n",
        "#Missing values\n",
        "print(\"\\nMissing values count per column:\")\n",
        "print(df.isnull().sum())"
      ],
      "metadata": {
        "colab": {
          "base_uri": "https://localhost:8080/"
        },
        "id": "RZCYSEjEH350",
        "outputId": "6686de66-b260-4aae-b392-e58ca9fd67bf"
      },
      "execution_count": 33,
      "outputs": [
        {
          "output_type": "stream",
          "name": "stdout",
          "text": [
            "\n",
            "Missing values count per column:\n",
            "Age                        9\n",
            "Sex                        0\n",
            "T_Stage                    0\n",
            "N_Stage                    0\n",
            "6th_Stage                  0\n",
            "Differentiated             0\n",
            "Grade                      0\n",
            "A_Stage                    8\n",
            "Tumor_Size                 3\n",
            "Estrogen_Status            0\n",
            "Progesterone_Status        0\n",
            "Regional_Node_Examined    16\n",
            "Reginol_Node_Positive     54\n",
            "Survival_Months            0\n",
            "Mortality_Status           0\n",
            "dtype: int64\n"
          ]
        }
      ]
    },
    {
      "cell_type": "code",
      "source": [
        "# 3.\n",
        "# Calculate percentage of missing values\n",
        "print(\"\\nPercentage of missing values per column:\")\n",
        "print(df.isnull().sum() * 100 / len(df))"
      ],
      "metadata": {
        "colab": {
          "base_uri": "https://localhost:8080/"
        },
        "id": "L7MV0hOXazX8",
        "outputId": "e0f5c6b5-3ba6-4e3b-fd58-0ff15836a0ef"
      },
      "execution_count": 34,
      "outputs": [
        {
          "output_type": "stream",
          "name": "stdout",
          "text": [
            "\n",
            "Percentage of missing values per column:\n",
            "Age                       0.223658\n",
            "Sex                       0.000000\n",
            "T_Stage                   0.000000\n",
            "N_Stage                   0.000000\n",
            "6th_Stage                 0.000000\n",
            "Differentiated            0.000000\n",
            "Grade                     0.000000\n",
            "A_Stage                   0.198807\n",
            "Tumor_Size                0.074553\n",
            "Estrogen_Status           0.000000\n",
            "Progesterone_Status       0.000000\n",
            "Regional_Node_Examined    0.397614\n",
            "Reginol_Node_Positive     1.341948\n",
            "Survival_Months           0.000000\n",
            "Mortality_Status          0.000000\n",
            "dtype: float64\n"
          ]
        }
      ]
    },
    {
      "cell_type": "code",
      "source": [
        "# 4.\n",
        "# Count missing values\n",
        "missing = df.isnull().sum()\n",
        "missing = missing[missing > 0]  # Only columns with missing values\n",
        "\n",
        "# Check if there are any missing values to plot\n",
        "if not missing.empty:\n",
        "    # Plot\n",
        "    plt.figure(figsize=(10, 4))\n",
        "    missing.sort_values(ascending=False).plot(kind='bar', color='crimson')\n",
        "    plt.title('Missing Values per Variable')\n",
        "    plt.xlabel('Variable')\n",
        "    plt.ylabel('Count of Missing Values')\n",
        "    plt.title('Boxplots for Retain All Variables(Before Handle Missing Values)')\n",
        "    plt.xticks(rotation=45)\n",
        "    plt.grid(axis='y')\n",
        "    plt.show()\n",
        "else:\n",
        "    print(\"No missing values to plot.\")\n"
      ],
      "metadata": {
        "colab": {
          "base_uri": "https://localhost:8080/",
          "height": 533
        },
        "id": "zL1eRVAjlkAy",
        "outputId": "2c3e0fe9-9cd5-4ef4-ee59-4d06f925619c"
      },
      "execution_count": 35,
      "outputs": [
        {
          "output_type": "display_data",
          "data": {
            "text/plain": [
              "<Figure size 1000x400 with 1 Axes>"
            ],
            "image/png": "[encoded data removed]"
          },
          "metadata": {}
        }
      ]
    },
    {
      "cell_type": "code",
      "source": [
        "# 5.\n",
        "# Handle missing values\n",
        "# For numerical columns, impute with median\n",
        "numerical_columns = df.select_dtypes(include=['float64', 'int64']).columns\n",
        "numerical_imputer = SimpleImputer(strategy='median')\n",
        "df[numerical_columns] = numerical_imputer.fit_transform(df[numerical_columns])\n",
        "# For categorical columns, impute with most frequent value\n",
        "categorical_columns = df.select_dtypes(include=['object', 'category']).columns\n",
        "categorical_imputer = SimpleImputer(strategy='most_frequent')\n",
        "if not categorical_columns.empty:\n",
        "    df[categorical_columns] = categorical_imputer.fit_transform(df[categorical_columns])\n",
        "\n",
        "\n",
        "# Verify missing values are handled\n",
        "print(\"\\nMissing values after imputation:\")\n",
        "print(df.isnull().sum())"
      ],
      "metadata": {
        "colab": {
          "base_uri": "https://localhost:8080/"
        },
        "id": "FIQIVd7PYlP9",
        "outputId": "45990033-0630-4db6-9947-145932e4e118"
      },
      "execution_count": 36,
      "outputs": [
        {
          "output_type": "stream",
          "name": "stdout",
          "text": [
            "\n",
            "Missing values after imputation:\n",
            "Age                       0\n",
            "Sex                       0\n",
            "T_Stage                   0\n",
            "N_Stage                   0\n",
            "6th_Stage                 0\n",
            "Differentiated            0\n",
            "Grade                     0\n",
            "A_Stage                   0\n",
            "Tumor_Size                0\n",
            "Estrogen_Status           0\n",
            "Progesterone_Status       0\n",
            "Regional_Node_Examined    0\n",
            "Reginol_Node_Positive     0\n",
            "Survival_Months           0\n",
            "Mortality_Status          0\n",
            "dtype: int64\n"
          ]
        }
      ]
    },
    {
      "cell_type": "code",
      "source": [
        "# 6.\n",
        "# Count missing values\n",
        "missing = df.isnull().sum()\n",
        "missing = missing[missing > 0]  # Only columns with missing values\n",
        "\n",
        "# Check if there are any missing values to plot\n",
        "if not missing.empty:\n",
        "    # Plot\n",
        "    plt.figure(figsize=(10, 4))\n",
        "    missing.sort_values(ascending=False).plot(kind='bar', color='crimson')\n",
        "    plt.title('Missing Values per Variable')\n",
        "    plt.xlabel('Variable')\n",
        "    plt.ylabel('Count of Missing Values')\n",
        "    plt.title('Boxplots for All Numerical Variables(Before Removing)')\n",
        "    plt.xticks(rotation=45)\n",
        "    plt.grid(axis='y')\n",
        "    plt.show()\n",
        "else:\n",
        "    print(\"\\n After The Handle Missing Values: \")\n",
        "    print(\"No missing values to plot.\")"
      ],
      "metadata": {
        "colab": {
          "base_uri": "https://localhost:8080/"
        },
        "id": "PqcbEIDBaoLl",
        "outputId": "7ba75027-0fad-4080-fbc4-387e638c5603"
      },
      "execution_count": 37,
      "outputs": [
        {
          "output_type": "stream",
          "name": "stdout",
          "text": [
            "\n",
            " After The Handle Missing Values: \n",
            "No missing values to plot.\n"
          ]
        }
      ]
    },
    {
      "cell_type": "code",
      "source": [
        "# 7.\n",
        "#Outliers detection\n",
        "print(\"\\n========== OUTLIER DETECTION AND VISUALIZATION ==========\")\n",
        "\n",
        "# Function to detect and visualize outliers using boxplots\n",
        "def detect_and_visualize_outliers(df, numerical_cols):\n",
        "    \"\"\"\n",
        "    Detect and visualize outliers in numerical columns using boxplots\n",
        "    Returns a dictionary with the count of outliers for each column\n",
        "    \"\"\"\n",
        "    plt.figure(figsize=(15, 10))\n",
        "    outliers_count = {}\n",
        "\n",
        "    for i, col in enumerate(numerical_cols):\n",
        "        # Plot boxplot\n",
        "        plt.subplot(2, 3, i+1)\n",
        "        sns.boxplot(x=df[col])\n",
        "        plt.title(f'Boxplot of {col}')\n",
        "\n",
        "        # Calculate IQR and identify outliers\n",
        "        Q1 = df[col].quantile(0.25)\n",
        "        Q3 = df[col].quantile(0.75)\n",
        "        IQR = Q3 - Q1\n",
        "        lower_bound = Q1 - 1.5 * IQR\n",
        "        upper_bound = Q3 + 1.5 * IQR\n",
        "\n",
        "        # Count outliers\n",
        "        outliers = df[(df[col] < lower_bound) | (df[col] > upper_bound)][col]\n",
        "        outliers_count[col] = len(outliers)\n",
        "\n",
        "        # Add text annotation with outlier count\n",
        "        plt.annotate(f'Outliers: {len(outliers)}',\n",
        "                     xy=(0.5, 0.9),\n",
        "                     xycoords='axes fraction',\n",
        "                     ha='center',\n",
        "                     bbox=dict(boxstyle=\"round,pad=0.3\", fc=\"white\", ec=\"gray\", alpha=0.8))\n",
        "\n",
        "    plt.tight_layout()\n",
        "    plt.savefig('outliers_boxplots.png')\n",
        "    plt.show()\n",
        "    return outliers_count\n",
        "# List of numerical columns for outlier detection\n",
        "numerical_cols = ['Age', 'Tumor_Size', 'Regional_Node_Examined', 'Reginol_Node_Positive']\n",
        "\n",
        "# Detect and visualize outliers\n",
        "outliers_count = detect_and_visualize_outliers(df, numerical_cols)\n",
        "print(\"Number of outliers detected in each column:\")\n",
        "for col, count in outliers_count.items():\n",
        "    print(f\"{col}: {count} outliers\")\n",
        "\n",
        "\n",
        "plt.tight_layout()\n",
        "plt.savefig('feature_relationships.png')\n",
        "plt.show()"
      ],
      "metadata": {
        "colab": {
          "base_uri": "https://localhost:8080/",
          "height": 1000
        },
        "id": "HCNW6vgpxlrY",
        "outputId": "723c5a2e-26cc-4025-8868-1c9effdb1bfb"
      },
      "execution_count": 38,
      "outputs": [
        {
          "output_type": "stream",
          "name": "stdout",
          "text": [
            "\n",
            "========== OUTLIER DETECTION AND VISUALIZATION ==========\n"
          ]
        },
        {
          "output_type": "display_data",
          "data": {
            "text/plain": [
              "<Figure size 1500x1000 with 4 Axes>"
            ],
            "image/png": "[encoded data removed]"
          },
          "metadata": {}
        },
        {
          "output_type": "stream",
          "name": "stdout",
          "text": [
            "Number of outliers detected in each column:\n",
            "Age: 1 outliers\n",
            "Tumor_Size: 221 outliers\n",
            "Regional_Node_Examined: 74 outliers\n",
            "Reginol_Node_Positive: 339 outliers\n"
          ]
        },
        {
          "output_type": "display_data",
          "data": {
            "text/plain": [
              "<Figure size 640x480 with 0 Axes>"
            ]
          },
          "metadata": {}
        }
      ]
    },
    {
      "cell_type": "code",
      "source": [
        "# 8.\n",
        "# ========== OUTLIER REMOVAL ==========\n",
        "print(\"\\n========== OUTLIER REMOVAL ==========\")\n",
        "\n",
        "# Make a copy of the original DataFrame\n",
        "df_clean = df.copy()\n",
        "\n",
        "# List of numerical columns where outliers should be removed\n",
        "columns_to_check = ['Age', 'Tumor_Size', 'Regional_Node_Examined', 'Regional_Node_Positive']\n",
        "\n",
        "# Function to remove outliers using IQR method\n",
        "def remove_outliers(df, col):\n",
        "    \"\"\"\n",
        "    Remove outliers from a specific column using the IQR method\n",
        "    Returns the dataframe with outliers removed\n",
        "    \"\"\"\n",
        "    Q1 = df[col].quantile(0.25)\n",
        "    Q3 = df[col].quantile(0.75)\n",
        "    IQR = Q3 - Q1\n",
        "    lower_bound = Q1 - 1.5 * IQR\n",
        "    upper_bound = Q3 + 1.5 * IQR\n",
        "\n",
        "    return df[(df[col] >= lower_bound) & (df[col] <= upper_bound)]\n",
        "\n",
        "# Store the original shape for comparison\n",
        "original_shape = df.shape\n",
        "print(f\"Original dataset shape: {original_shape}\")\n",
        "\n",
        "\n",
        "# Remove outliers from each numerical column one by one\n",
        "for col in numerical_cols:\n",
        "    # Check if the column has outliers\n",
        "    if outliers_count[col] > 0:\n",
        "        df_clean = remove_outliers(df_clean, col)\n",
        "        print(f\"After removing outliers from {col}: {df_clean.shape}\")\n",
        "# Report on the number of rows removed\n",
        "rows_removed = original_shape[0] - df_clean.shape[0]\n",
        "percentage_removed = (rows_removed / original_shape[0]) * 100\n",
        "print(f\"Total rows removed: {rows_removed} ({percentage_removed:.2f}%)\")\n",
        "print(f\"After outliers removed:{df_clean.shape}\")\n",
        "\n",
        "# Visualize the data distribution after outlier treatment\n",
        "plt.figure(figsize=(15, 10))\n",
        "for i, col in enumerate(numerical_cols):\n",
        "    plt.subplot(2, 3, i + 1)\n",
        "    sns.boxplot(data=df_clean, y=col)\n",
        "    plt.title(f'{col} Boxplot After Outlier Removal')\n",
        "\n",
        "plt.tight_layout()\n",
        "plt.savefig('boxplots_after_outlier_removal.png')\n",
        "plt.show()\n",
        "\n",
        "df_clean.to_csv(\"cleaned_dataset.csv\", index=False)\n"
      ],
      "metadata": {
        "colab": {
          "base_uri": "https://localhost:8080/",
          "height": 1000
        },
        "id": "5kaBGOpszjBm",
        "outputId": "d19a60a3-f041-4145-ef28-8cf00d3da90b"
      },
      "execution_count": 39,
      "outputs": [
        {
          "output_type": "stream",
          "name": "stdout",
          "text": [
            "\n",
            "========== OUTLIER REMOVAL ==========\n",
            "Original dataset shape: (4024, 15)\n",
            "After removing outliers from Age: (4023, 15)\n",
            "After removing outliers from Tumor_Size: (3802, 15)\n",
            "After removing outliers from Regional_Node_Examined: (3735, 15)\n",
            "After removing outliers from Reginol_Node_Positive: (3289, 15)\n",
            "Total rows removed: 735 (18.27%)\n",
            "After outliers removed:(3289, 15)\n"
          ]
        },
        {
          "output_type": "display_data",
          "data": {
            "text/plain": [
              "<Figure size 1500x1000 with 4 Axes>"
            ],
            "image/png": "[encoded data removed]"
          },
          "metadata": {}
        }
      ]
    },
    {
      "cell_type": "code",
      "source": [
        "print(df_clean.head(100))"
      ],
      "metadata": {
        "colab": {
          "base_uri": "https://localhost:8080/"
        },
        "id": "QqPobZ5SWcJa",
        "outputId": "318e8739-b976-438a-d382-0059673928a0"
      },
      "execution_count": 40,
      "outputs": [
        {
          "output_type": "stream",
          "name": "stdout",
          "text": [
            "      Age  Sex  T_Stage  N_Stage  6th_Stage  Differentiated  Grade  A_Stage  Tumor_Size  Estrogen_Status  Progesterone_Status  Regional_Node_Examined  Reginol_Node_Positive  Survival_Months  Mortality_Status\n",
            "0    68.0  0.0      1.0      1.0        1.0             2.0    3.0      0.0         4.0              1.0                  1.0                    24.0                    1.0             60.0               0.0\n",
            "1    50.0  0.0      2.0      2.0        3.0             3.0    2.0      0.0        35.0              1.0                  1.0                    14.0                    5.0             62.0               0.0\n",
            "2    58.0  0.0      3.0      3.0        5.0             3.0    2.0      0.0        63.0              1.0                  1.0                    14.0                    7.0             75.0               0.0\n",
            "3    58.0  0.0      1.0      1.0        1.0             2.0    3.0      0.0        18.0              1.0                  1.0                     2.0                    1.0             84.0               0.0\n",
            "4    47.0  0.0      2.0      1.0        2.0             2.0    3.0      0.0        41.0              1.0                  1.0                     3.0                    1.0             50.0               0.0\n",
            "..    ...  ...      ...      ...        ...             ...    ...      ...         ...              ...                  ...                     ...                    ...              ...               ...\n",
            "123  59.0  0.0      2.0      2.0        3.0             2.0    3.0      0.0        38.0              1.0                  1.0                    23.0                    4.0             86.0               0.0\n",
            "124  53.0  0.0      1.0      1.0        1.0             4.0    1.0      0.0        15.0              1.0                  1.0                    23.0                    2.0             49.0               0.0\n",
            "125  62.0  0.0      1.0      1.0        1.0             3.0    2.0      0.0        17.0              1.0                  1.0                    16.0                    1.0             14.0               1.0\n",
            "126  39.0  0.0      2.0      1.0        2.0             3.0    2.0      0.0        25.0              1.0                  1.0                    13.0                    2.0            100.0               0.0\n",
            "127  59.0  0.0      1.0      1.0        1.0             2.0    3.0      0.0        19.0              1.0                  0.0                     3.0                    1.0             50.0               0.0\n",
            "\n",
            "[100 rows x 15 columns]\n"
          ]
        }
      ]
    },
    {
      "cell_type": "code",
      "source": [
        "# Use the cleaned dataset as the base for both classification and regression tasks\n",
        "classification_df = df_clean\n",
        "regression_df = df_clean\n",
        "# Print confirmation\n",
        "print(\"Cleaned dataset assigned to both classification_df and regression_df.\")"
      ],
      "metadata": {
        "colab": {
          "base_uri": "https://localhost:8080/"
        },
        "id": "m1wwsuIX5e31",
        "outputId": "46c795ab-ffc5-4d10-9cdc-5ce7c94a5ec2"
      },
      "execution_count": 41,
      "outputs": [
        {
          "output_type": "stream",
          "name": "stdout",
          "text": [
            "Cleaned dataset assigned to both classification_df and regression_df.\n"
          ]
        }
      ]
    },
    {
      "cell_type": "code",
      "source": [
        "#check the clss distribution in the classification data set (we want to see mortality status column)\n",
        "print(\"\\nOriginal Class Distribution in Classification Dataset:\")\n",
        "print(classification_df['Mortality_Status'].value_counts())"
      ],
      "metadata": {
        "colab": {
          "base_uri": "https://localhost:8080/"
        },
        "id": "uHF0JikMrnqQ",
        "outputId": "5ff91474-a2f4-4975-a1be-b4f6edc8750f"
      },
      "execution_count": 42,
      "outputs": [
        {
          "output_type": "stream",
          "name": "stdout",
          "text": [
            "\n",
            "Original Class Distribution in Classification Dataset:\n",
            "Mortality_Status\n",
            "0.0    2904\n",
            "1.0     385\n",
            "Name: count, dtype: int64\n"
          ]
        }
      ]
    },
    {
      "cell_type": "code",
      "source": [
        "# Split the dataset into majority and minority groups based on target label\n",
        "dead_cases = classification_df[classification_df['Mortality_Status'] == 1]   # Minority class(Dead)\n",
        "alive_cases = classification_df[classification_df['Mortality_Status'] == 0]  # Majority class(Alive)"
      ],
      "metadata": {
        "id": "lZ1ENWO62kxo"
      },
      "execution_count": 43,
      "outputs": []
    },
    {
      "cell_type": "code",
      "source": [
        "# Count how many samples belong to the minority (dead) class\n",
        "num_dead_samples = len(dead_cases)"
      ],
      "metadata": {
        "id": "us8MY2nv2-xf"
      },
      "execution_count": 44,
      "outputs": []
    },
    {
      "cell_type": "code",
      "source": [
        "# Randomly select a subset of the majority (alive) class equal to the minority (dead) count\n",
        "alive_sampled = alive_cases.sample(n=num_dead_samples, random_state=42)\n",
        "\n",
        "# Combine the downsampled alive group with the full dead group to balance the dataset\n",
        "balanced_classification_df = pd.concat([alive_sampled, dead_cases], axis=0)\n",
        "\n",
        "# Shuffle the combined dataset and reset the index\n",
        "balanced_classification_df = balanced_classification_df.sample(frac=1, random_state=42).reset_index(drop=True)\n"
      ],
      "metadata": {
        "id": "am7a4Ddm3IY3"
      },
      "execution_count": 45,
      "outputs": []
    },
    {
      "cell_type": "code",
      "source": [
        "# Display the updated class distribution after balancing\n",
        "print(\"\\nUpdated Class Counts in the Balanced Dataset:\")\n",
        "print(balanced_classification_df['Mortality_Status'].value_counts())"
      ],
      "metadata": {
        "colab": {
          "base_uri": "https://localhost:8080/"
        },
        "id": "8mNd_nC13pdZ",
        "outputId": "411d78d4-a814-4c3d-a8f8-d00864568989"
      },
      "execution_count": 46,
      "outputs": [
        {
          "output_type": "stream",
          "name": "stdout",
          "text": [
            "\n",
            "Updated Class Counts in the Balanced Dataset:\n",
            "Mortality_Status\n",
            "1.0    385\n",
            "0.0    385\n",
            "Name: count, dtype: int64\n"
          ]
        }
      ]
    },
    {
      "cell_type": "code",
      "source": [
        "# Remove the 'Survival_Months' feature since it's not required for the classification task\n",
        "classification_data = balanced_classification_df.drop(['Survival_Months'], axis=1)"
      ],
      "metadata": {
        "id": "30wH33tC38VS"
      },
      "execution_count": 47,
      "outputs": []
    },
    {
      "cell_type": "code",
      "source": [
        "print(balanced_classification_df.shape)"
      ],
      "metadata": {
        "colab": {
          "base_uri": "https://localhost:8080/"
        },
        "id": "EkRSIRZbzuS0",
        "outputId": "2fcd51d2-4b3a-4221-cb7f-2f7598a7c565"
      },
      "execution_count": 48,
      "outputs": [
        {
          "output_type": "stream",
          "name": "stdout",
          "text": [
            "(770, 15)\n"
          ]
        }
      ]
    },
    {
      "cell_type": "code",
      "source": [
        "# Prepare a dataset for regression by selecting only rows where the patient is alive\n",
        "# Drop the classification target column as it’s irrelevant for the regression task\n",
        "regression_df = df_clean[df_clean['Mortality_Status'] == 1].drop(['Mortality_Status'], axis=1)"
      ],
      "metadata": {
        "id": "TOcucP3g4UnX"
      },
      "execution_count": 49,
      "outputs": []
    },
    {
      "cell_type": "code",
      "source": [
        "print(regression_df.shape)"
      ],
      "metadata": {
        "colab": {
          "base_uri": "https://localhost:8080/"
        },
        "id": "W6wK6P1x2qs7",
        "outputId": "0268c4d6-fe3a-4e2a-bd33-a4497e0ffd78"
      },
      "execution_count": 50,
      "outputs": [
        {
          "output_type": "stream",
          "name": "stdout",
          "text": [
            "(385, 14)\n"
          ]
        }
      ]
    },
    {
      "cell_type": "code",
      "source": [
        "# Define output filenames for both classification and regression datasets\n",
        "classification_output_path = \"classification_dataset.csv\"\n",
        "regression_output_path = \"regression_dataset.csv\"\n",
        "\n",
        "# Export the classification and regression datasets to CSV files\n",
        "classification_df.to_csv(classification_output_path, index=False)\n",
        "regression_df.to_csv(regression_output_path, index=False)"
      ],
      "metadata": {
        "id": "tPqhYso541ZY"
      },
      "execution_count": 51,
      "outputs": []
    },
    {
      "cell_type": "code",
      "source": [
        "print(\"\\n Data preparation is finished. The cleaned datasets have been successfully saved:\")\n",
        "print(f\"--Classification dataset saved as: {classification_output_path}\")\n",
        "print(f\"--Regression dataset saved as: {regression_output_path}\")"
      ],
      "metadata": {
        "colab": {
          "base_uri": "https://localhost:8080/"
        },
        "id": "vBvN25Gq5BPU",
        "outputId": "f6981dfa-458f-4076-f602-4c742aff9bd1"
      },
      "execution_count": 52,
      "outputs": [
        {
          "output_type": "stream",
          "name": "stdout",
          "text": [
            "\n",
            " Data preparation is finished. The cleaned datasets have been successfully saved:\n",
            "--Classification dataset saved as: classification_dataset.csv\n",
            "--Regression dataset saved as: regression_dataset.csv\n"
          ]
        }
      ]
    }
  ]
}